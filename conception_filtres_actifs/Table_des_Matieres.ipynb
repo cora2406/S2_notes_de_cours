{
 "cells": [
  {
   "cell_type": "code",
   "execution_count": 1,
   "id": "063fa06c-f36c-4952-b698-7a61f9e62bb5",
   "metadata": {
    "jupyter": {
     "source_hidden": true
    }
   },
   "outputs": [
    {
     "data": {
      "text/html": [
       "<style>\n",
       "table {float:center}\n",
       "</style>\n"
      ],
      "text/plain": [
       "<IPython.core.display.HTML object>"
      ]
     },
     "metadata": {},
     "output_type": "display_data"
    }
   ],
   "source": [
    "%%html\n",
    "<style>\n",
    "table {float:center}\n",
    "</style>"
   ]
  },
  {
   "cell_type": "markdown",
   "id": "852d4880-4111-4a7b-aed8-3391820bb7c8",
   "metadata": {},
   "source": [
    "<h1 align=\"center\">Conception des filtres actifs</h1> \n",
    "\n",
    "## GEL265 -- Numérisation de signaux analogiques\n",
    "\n",
    "\n",
    "### Historique des changements\n",
    "\n",
    "|Auteur(e)s |Date |Modification |\n",
    "|:-----|:-----|:---:|\n",
    "|Roch Lefebvre, ing. | 2008 | Rédaction de notes de cours originale |\n",
    "|Audrey Corbeil Therrien, ing. | 2022-2023 | Rédaction initiale - Conversion en Jupyter Notebook |\n",
    "|Berthié Gouin-Ferland | 2023 | Conversion en Jupyter Notebook |\n",
    "|Audrey Corbeil Therrien, ing. | 2024 | Corrections mineures et format |\n",
    "\n",
    "\n",
    "## Table des matières\n",
    "\n",
    "1. [Introduction](00_Conception_Filtres_Introduction.ipynb)\n",
    "1. [Filtre passe-bas idéal](01_Conception_Filtres_Passe-bas-ideal.ipynb)\n",
    "1. [Transformations fréquentielles](02_Conception_Filtres_Transformations_fréquentielles.ipynb)\n",
    "1. [Sélection de filtres](03_Conception_Filtres_Selection.ipynb)\n",
    "1. [Conception électronique de filtres actifs](04_Conception_Filtres_Electronique.ipynb)\n",
    "\n",
    "\n"
   ]
  }
 ],
 "metadata": {
  "kernelspec": {
   "display_name": "Python 3 (ipykernel)",
   "language": "python",
   "name": "python3"
  },
  "language_info": {
   "codemirror_mode": {
    "name": "ipython",
    "version": 3
   },
   "file_extension": ".py",
   "mimetype": "text/x-python",
   "name": "python",
   "nbconvert_exporter": "python",
   "pygments_lexer": "ipython3",
   "version": "3.12.8"
  }
 },
 "nbformat": 4,
 "nbformat_minor": 5
}
