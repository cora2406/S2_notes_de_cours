{
 "cells": [
  {
   "cell_type": "code",
   "execution_count": null,
   "metadata": {},
   "outputs": [],
   "source": [
    "import numpy as np\n",
    "import matplotlib.pyplot as plt\n",
    "from scipy import signal"
   ]
  },
  {
   "attachments": {},
   "cell_type": "markdown",
   "metadata": {},
   "source": [
    "## a)"
   ]
  },
  {
   "cell_type": "code",
   "execution_count": null,
   "metadata": {},
   "outputs": [],
   "source": [
    "dt = 1/1000    # incrément temporel (élément différentiel)\n",
    "t = np.arange(0, 6, dt)   # échelle de temps\n",
    "\n",
    "x= 0.5*signal.square(2*np.pi*0.5*t)+0.5\n",
    "h = np.piecewise(t, [t<=0.5, t>0.5], [1, 0])\n",
    "\n",
    "y = np.convolve(x, h)[:len(x)]*dt\n",
    "\n",
    "fig = plt.figure()\n",
    "fig.set_figwidth(12)\n",
    "fig.set_figheight(4)\n",
    "\n",
    "ax1 = plt.subplot(1,2,1)\n",
    "ax1.plot(t, x)\n",
    "ax1.set_xlim([0,6])\n",
    "ax1.set_ylim([-1,2])\n",
    "ax1.set_xlabel('t (s)')\n",
    "ax1.set_title('x(t)')\n",
    "\n",
    "ax2 = plt.subplot(1,2,2)\n",
    "ax2.plot(t, h)\n",
    "ax2.set_xlim([0,6])\n",
    "ax2.set_ylim([-1,2])\n",
    "ax2.set_xlabel('t (s)')\n",
    "ax2.set_title('h(t)')\n",
    "\n",
    "plt.savefig('./Images/05_chap9_a')\n",
    "plt.close(fig)\n",
    "\n",
    "fig = plt.figure()\n",
    "plt.plot(t, y)\n",
    "plt.xlim([0,6])\n",
    "plt.ylim([-1,2])\n",
    "plt.xlabel('t (s)')\n",
    "plt.title('y(t)')\n",
    "plt.savefig('./Images/05_chap9_a_resultat')\n",
    "plt.close(fig)"
   ]
  },
  {
   "attachments": {},
   "cell_type": "markdown",
   "metadata": {},
   "source": [
    "\n",
    "Refaites le même exercice si la durée de $h(t)$ $1$ sec au lieu de $0.5$ sec."
   ]
  },
  {
   "cell_type": "code",
   "execution_count": null,
   "metadata": {},
   "outputs": [],
   "source": [
    "dt = 1/1000    # incrément temporel (élément différentiel)\n",
    "t = np.arange(0, 6, dt)   # échelle de temps\n",
    "\n",
    "x= 0.5*signal.square(2*np.pi*0.5*t)+0.5\n",
    "h = np.piecewise(t, [t<=1, t>1], [1, 0])\n",
    "\n",
    "y = np.convolve(x, h)[:len(x)]*dt\n",
    "\n",
    "fig = plt.figure()\n",
    "fig.set_figwidth(12)\n",
    "fig.set_figheight(4)\n",
    "\n",
    "ax1 = plt.subplot(1,2,1)\n",
    "ax1.plot(t, x)\n",
    "ax1.set_xlim([0,6])\n",
    "ax1.set_ylim([-1,2])\n",
    "ax1.set_xlabel('t (s)')\n",
    "ax1.set_title('x(t)')\n",
    "\n",
    "ax2 = plt.subplot(1,2,2)\n",
    "ax2.plot(t, h)\n",
    "ax2.set_xlim([0,6])\n",
    "ax2.set_ylim([-1,2])\n",
    "ax2.set_xlabel('t (s)')\n",
    "ax2.set_title('h(t)')\n",
    "plt.show()\n",
    "\n",
    "fig = plt.figure()\n",
    "plt.plot(t, y)\n",
    "plt.xlim([0,6])\n",
    "plt.ylim([-1,2])\n",
    "plt.xlabel('t (s)')\n",
    "plt.title('y(t)')\n",
    "plt.show()"
   ]
  },
  {
   "attachments": {},
   "cell_type": "markdown",
   "metadata": {},
   "source": [
    "## b)"
   ]
  },
  {
   "cell_type": "code",
   "execution_count": null,
   "metadata": {},
   "outputs": [],
   "source": [
    "dt = 1/1000    # incrément temporel (élément différentiel)\n",
    "t = np.arange(0, 6, dt)   # échelle de temps\n",
    "\n",
    "x = np.piecewise(t, [t<=0.5, (t>0.5)*(t<1.5), (t>=1.5)*(t<=2), t>2], [1, 0, -1, 0])\n",
    "h = np.piecewise(t, [t<=4, t>4], [1, 0])\n",
    "\n",
    "y = np.convolve(x, h)[:len(x)]*dt\n",
    "\n",
    "fig = plt.figure()\n",
    "fig.set_figwidth(12)\n",
    "fig.set_figheight(4)\n",
    "\n",
    "ax1 = plt.subplot(1,2,1)\n",
    "ax1.plot(t, x)\n",
    "ax1.set_xlim([0,6])\n",
    "ax1.set_ylim([-2,2])\n",
    "ax1.set_xlabel('t (s)')\n",
    "ax1.set_title('x(t)')\n",
    "\n",
    "ax2 = plt.subplot(1,2,2)\n",
    "ax2.plot(t, h)\n",
    "ax2.set_xlim([0,6])\n",
    "ax2.set_ylim([-1,2])\n",
    "ax2.set_xlabel('t (s)')\n",
    "ax2.set_title('h(t)')\n",
    "\n",
    "plt.savefig('./Images/05_chap9_b')\n",
    "plt.close(fig)\n",
    "\n",
    "fig = plt.figure()\n",
    "plt.plot(t, y)\n",
    "plt.xlim([0,6])\n",
    "plt.ylim([-1,2])\n",
    "plt.xlabel('t (s)')\n",
    "plt.title('y(t)')\n",
    "plt.savefig('./Images/05_chap9_b_resultat')\n",
    "plt.close(fig)"
   ]
  },
  {
   "attachments": {},
   "cell_type": "markdown",
   "metadata": {},
   "source": [
    "## c)"
   ]
  },
  {
   "cell_type": "code",
   "execution_count": null,
   "metadata": {},
   "outputs": [],
   "source": [
    "dt = 1/1000    # incrément temporel (élément différentiel)\n",
    "t = np.arange(-5, 5, dt)   # échelle de temps\n",
    "\n",
    "x = np.piecewise(t, [t<-2, (t>=-2)*(t<0), (t>=0)*(t<=2), t>2], [0, lambda t: 0.5*t+1, lambda t: -0.5*t+1, 0])\n",
    "h = np.zeros(len(x))\n",
    "h[int(2/dt)] = 1000\n",
    "h[int(-2/dt)] = 1000\n",
    "\n",
    "y = np.convolve(x, h)*dt\n",
    "\n",
    "fig = plt.figure()\n",
    "fig.set_figwidth(12)\n",
    "fig.set_figheight(4)\n",
    "\n",
    "ax1 = plt.subplot(1,2,1)\n",
    "ax1.plot(t, x)\n",
    "ax1.set_xlim([-5, 5])\n",
    "ax1.set_ylim([-1,2])\n",
    "ax1.set_xlabel('t (s)')\n",
    "ax1.set_title('x(t)')\n",
    "\n",
    "ax2 = plt.subplot(1,2,2)\n",
    "ax2.plot(t, h)\n",
    "ax2.set_xlim([-5, 5])\n",
    "ax2.set_ylim([0,1000])\n",
    "ax2.set_xlabel('t (s)')\n",
    "ax2.set_title('h(t)')\n",
    "\n",
    "plt.savefig('./Images/05_chap9_c')\n",
    "plt.close(fig)\n",
    "\n",
    "tt = np.arange(-10, 10-dt, dt)[:-1]  # échelle de temps pour la sortie\n",
    "fig = plt.figure()\n",
    "plt.plot(tt, y)\n",
    "plt.xlim([-5, 5])\n",
    "plt.ylim([-1,2])\n",
    "plt.xlabel('t (s)')\n",
    "plt.title('y(t)')\n",
    "plt.savefig('./Images/05_chap9_c_resultat')\n",
    "plt.close(fig)"
   ]
  }
 ],
 "metadata": {
  "kernelspec": {
   "display_name": "venv",
   "language": "python",
   "name": "python3"
  },
  "language_info": {
   "name": "python",
   "version": "3.9.13 (tags/v3.9.13:6de2ca5, May 17 2022, 16:36:42) [MSC v.1929 64 bit (AMD64)]"
  },
  "orig_nbformat": 4,
  "vscode": {
   "interpreter": {
    "hash": "dadff0d8857684c9636d0716e3b750daf957eba36f2c48591b3596a3c8559acb"
   }
  }
 },
 "nbformat": 4,
 "nbformat_minor": 2
}
