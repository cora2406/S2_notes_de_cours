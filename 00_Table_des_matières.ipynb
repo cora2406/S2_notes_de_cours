{
 "cells": [
  {
   "cell_type": "code",
   "execution_count": 3,
   "id": "1eb8e959-aa26-4640-aa69-0eab2be2178c",
   "metadata": {
    "tags": []
   },
   "outputs": [
    {
     "data": {
      "text/html": [
       "<style>\n",
       "table {float:center}\n",
       "</style>\n"
      ],
      "text/plain": [
       "<IPython.core.display.HTML object>"
      ]
     },
     "metadata": {},
     "output_type": "display_data"
    }
   ],
   "source": [
    "%%html\n",
    "<style>\n",
    "table {float:center}\n",
    "</style>"
   ]
  },
  {
   "cell_type": "markdown",
   "id": "bd2d08ad-4463-4317-8bbd-bef1eb0df331",
   "metadata": {
    "tags": []
   },
   "source": [
    "<h1 align=\"center\">Mathématiques des systèmes et signaux à temps continu</h1> \n",
    "\n",
    "## GEN211 -- Mathématique des signaux à temps continu \n",
    "\n",
    "## GEN230 -- Électronique analogique \n",
    "\n",
    "\n",
    "### Historique des changements\n",
    "\n",
    "|Auteur(e)s |Date |Modification |\n",
    "|:-----|:-----|:---:|\n",
    "|Roch Lefebvre, ing. | 2008 | Rédaction de notes de cours originale |\n",
    "|Audrey Corbeil Therrien, ing. | 2022-2023 | Rédaction initiale - Conversion en Jupyter Notebook |\n",
    "|Berthié Gouin-Ferland | 2023 | Conversion en Jupyter Notebook - Partie 05 |\n",
    "|Audrey Corbeil Therrien, ing. | 2024 | Corrections mineurs et format |\n",
    "\n",
    "\n",
    "## Table des matières\n",
    "\n",
    "1. [Nombres complexes](01_Nombres_complexes.ipynb)\n",
    "1. [Notions de systèmes et signaux](02_Notions_systemes_et_signaux.ipynb)\n",
    "1. [Séries de Fourier](03_Serie_de_Fourier.ipynb)\n",
    "1. [Fonctions de transfert harmoniques](04_Fonction_transfert_harmonique.ipynb)\n",
    "1. [La convolution](05_La_convolution.ipynb)\n",
    "1. [La transformée de Fourier](06_Transformee_de_Fourier.ipynb)\n",
    "1. [La transformée de Laplace](07_Transformee_de_Laplace.ipynb)\n",
    "1. [Introduction aux filtres Butterworth analogiques](08_Filtres_Butterworth_analogiques.ipynb)\n"
   ]
  }
 ],
 "metadata": {
  "kernelspec": {
   "display_name": "Python 3 (ipykernel)",
   "language": "python",
   "name": "python3"
  },
  "language_info": {
   "codemirror_mode": {
    "name": "ipython",
    "version": 3
   },
   "file_extension": ".py",
   "mimetype": "text/x-python",
   "name": "python",
   "nbconvert_exporter": "python",
   "pygments_lexer": "ipython3",
   "version": "3.12.8"
  }
 },
 "nbformat": 4,
 "nbformat_minor": 5
}
